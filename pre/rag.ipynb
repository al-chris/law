{
 "cells": [
  {
   "cell_type": "code",
   "execution_count": 54,
   "metadata": {},
   "outputs": [],
   "source": [
    "import os\n",
    "from dotenv import load_dotenv\n",
    "\n",
    "load_dotenv()\n",
    "\n",
    "PDF_FILE = \"sample.pdf\"\n",
    "\n",
    "# MODEL = \"gemma2:2b\""
   ]
  },
  {
   "cell_type": "markdown",
   "metadata": {},
   "source": [
    "Loading the PDF document"
   ]
  },
  {
   "cell_type": "code",
   "execution_count": 55,
   "metadata": {},
   "outputs": [
    {
     "name": "stderr",
     "output_type": "stream",
     "text": [
      "Ignoring wrong pointing object 12 0 (offset 0)\n",
      "Ignoring wrong pointing object 20 0 (offset 0)\n",
      "Ignoring wrong pointing object 36 0 (offset 0)\n",
      "Ignoring wrong pointing object 42 0 (offset 0)\n",
      "Ignoring wrong pointing object 46 0 (offset 0)\n",
      "Ignoring wrong pointing object 85 0 (offset 0)\n",
      "Ignoring wrong pointing object 88 0 (offset 0)\n"
     ]
    },
    {
     "name": "stdout",
     "output_type": "stream",
     "text": [
      "Number of pages: 3\n",
      "Length of a page: 3898\n",
      "Content of a page: 0.831.672.503,334.175.005.836.67−0.200.20.40.60.811.21.4\n",
      "Relative time (s)Temperature (C)PIR data sample\n",
      "  PIR1PIR2PIR3\n",
      "Figure 2: Time shifts: The time shifts in the signalsfrom three PIR sensors.for classiﬁcation is reduced to three dimensions – one foreach PIR sensor. These vectors are used to train logisticregression andGaussian mixture model(GMM) classiﬁers.3.2 Speed estimationSince the sensor array has three PIR sensors in di↵erentorientations (Figure 1), the temperature changes associatedwith a passing vehicle are recorded at di↵erent times by eachsensor (Figure 2). Convolution is applied to the three signalsto obtain the shifts of the signal spikes.Three time shifts are obtained\u0000t32,\u0000t21,\u0000t31, where\u0000tijrepresents the time shift of spikes from PIRito PIRj. Two linear regression models are compared:v=c1+c2\u0000t32+c3\u0000t21+c4\u0000t31,(t-model),v=c1+c2/\u0000t32+c3/\u0000t21+c4/\u0000t31,(1/t-model).The ﬁrstt-modelsimply takes the time shifts as featuresin linear regression. Alternatively, since speed is inverslyrelated to travel time, the1/t-modeluses the inverse of timeshifts as features.4. RESULTS4.1 Vehicle detection accuracyIn order to assess the accuracy of vehicle detection, nine-fold cross-validation is used. The detection accuracy is mea-sured both in terms of false positives and false negativesacross all folds. Here, a false positive is a detection thatdoes not correspond to a true vehicle, and a false negativeis a vehicle that was not detected. The ground truth is ob-tained from GPS sensors in the vehicles. Figure 3 comparesthe error rates between the various types of models. Overall,the logistic regression model achieved the best performance,with zero false positives and only one false negative out of288 vehicles. It is also worth noting that this peak perfor-mance occurs at a window size of 1.25 seconds. This is anacceptable latency for most applications, and a lower latencycan be achieved at some cost of accuracy.4.2 Speed estimation accuracyAfter vehicles are detected, a similar cross-validation schemeis used to evaluate the performance of the speed estimation.Several models are tested, which vary the regression termsand methods for computing the time shifts. Figure 4 shows00.420.831.251.672.0805101520253035404550\n",
      "Window Size (s)Number of ErrorsComparison of Detection Models\n",
      "  GMM−FPGMM−FNLogit−FPLogit−FN\n",
      "Figure 3: Detection performance of several models:The performance of vehicle detection depends onthe models used and the window size. Overall, thelogistic regression model provides the best result.\n",
      "050100150200250051015202530354045\n",
      "SamplesSpeed (mph)Visualization of speed estimation\n",
      "  true speedestimated speed\n",
      "Figure 4: Speed estimation using linear regression:Blue: true speeds from GPS data; Red: estimatedspeeds from PIR data.a comparison of the true and estimated velocities over allof the data. The best model, which uses the center-of-massmethod to compute the time shift and regresses the speedonto 1/tachieved an RMS error rate of about 4mphpertrip. Again, the ground truth comparison is obtained fromGPS sensors in the vehicles. This is a fairly accurate mea-surement for most tra\u0000c monitoring applications.5. CONCLUSION AND FUTURE WORKThis poster shows promise for the use of PIR sensors asan inexpensive, low energy sensing technology for tra\u0000ce s -timation. In particular, when equipped with the appropriatedata processing techniques, the sensor is able to detect pass-ing vehicles with a high degree of accuracy.Furthermore, it is able to estimate the speed of passingvehicles with reasonable accuracy. One main factor for thespeed estimation error is the varying distance of vehiclesfrom the sensor. Currently, we are conducting more com-plex statistical analysis, integrating a more advanced 16⇥4PIR sensor array, as well as developing semi-supervised ap-proaches for achieving better performance in vehicle detec-tion and speed estimation.\n"
     ]
    }
   ],
   "source": [
    "from langchain_community.document_loaders import PyPDFLoader\n",
    "\n",
    "loader = PyPDFLoader(PDF_FILE)\n",
    "pages = loader.load()\n",
    "\n",
    "print(f\"Number of pages: {len(pages)}\")\n",
    "print(f\"Length of a page: {len(pages[1].page_content)}\")\n",
    "print(\"Content of a page:\", pages[1].page_content)"
   ]
  },
  {
   "cell_type": "markdown",
   "metadata": {},
   "source": [
    "Splitting the pages in chunks"
   ]
  },
  {
   "cell_type": "code",
   "execution_count": 56,
   "metadata": {},
   "outputs": [
    {
     "name": "stdout",
     "output_type": "stream",
     "text": [
      "Number of chunks: 18\n",
      "Length of a chunk: 1099\n",
      "Content of a chunk: this poster presents our pre-liminary results for detecting vehicles and estimating tra\u0000cspeed, by applying signal processing and machine learningtechniques using thePassive Infrared(PIR) sensor data.1. MOTIVATIONConstruction activities on sections of roads (known aswork zones) commonly introduce mobility and safety is-sues, such as the development of queues and hence rear-endcrashes. ITS is expected to mitigate such issues, by mea-suring the real-time tra\u0000c conditions, and taking actionsaccordingly. The performance of ITS relies on the qualityand quantity of tra\u0000c data (e.g., tra\u0000c ﬂow, speed). Par-ticularly, the work zones by nature is dynamic: the scale(miles) and duration (days to years) of construction projectsvary across work zones. To promote the adoption of ITS inwork zones, the ITS devices should be mobile, robust, andself-contained, without requiring much installation e↵ort orexternal power lines.With the above vision, we are developing an advancedtra\u0000c sensing systems speciﬁcally for work zones. Thisposter presents our preliminary test results in measuringtra\u0000c volume and\n"
     ]
    }
   ],
   "source": [
    "from langchain.text_splitter import RecursiveCharacterTextSplitter\n",
    "\n",
    "splitter = RecursiveCharacterTextSplitter(chunk_size=1100, chunk_overlap=100)\n",
    "\n",
    "chunks = splitter.split_documents(pages)\n",
    "\n",
    "print(f\"Number of chunks: {len(chunks)}\")\n",
    "print(f\"Length of a chunk: {len(chunks[1].page_content)}\")\n",
    "print(\"Content of a chunk:\", chunks[1].page_content)"
   ]
  },
  {
   "cell_type": "markdown",
   "metadata": {},
   "source": [
    "Storing the chunks in a vector store"
   ]
  },
  {
   "cell_type": "code",
   "execution_count": 57,
   "metadata": {},
   "outputs": [],
   "source": [
    "from langchain_community.vectorstores import FAISS\n",
    "# from langchain_community.embeddings import OllamaEmbeddings\n",
    "from langchain_google_genai import GoogleGenerativeAIEmbeddings\n",
    "\n",
    "# embeddings = OllamaEmbeddings(model=MODEL)\n",
    "embeddings = GoogleGenerativeAIEmbeddings(model=\"models/embedding-001\", google_api_key=os.getenv(\"GEMINI_API_KEY\"))\n",
    "vectorstore = FAISS.from_documents(chunks, embeddings)"
   ]
  },
  {
   "cell_type": "markdown",
   "metadata": {},
   "source": [
    "Setting up a retriever"
   ]
  },
  {
   "cell_type": "code",
   "execution_count": 58,
   "metadata": {},
   "outputs": [
    {
     "data": {
      "text/plain": [
       "[Document(metadata={'source': 'sample.pdf', 'page': 0}, page_content='abrupt change in the tem-perature is recorded. This subsection presents a method todetect windows of time that contain such an abrupt temper-ature change.A high-pass ﬁlter is used to remove the e↵ect of grad-ual ambient temperature changes due to weather conditions.The window sizewis varied from 0.25sto 6.25swith a15wo↵set. The signal data in each window is averaged using aHamming function, which allows for higher weights for mea-surements in the center of the window. Thus, the data used'),\n",
       " Document(metadata={'source': 'sample.pdf', 'page': 1}, page_content='Figure 2: Time shifts: The time shifts in the signalsfrom three PIR sensors.for classiﬁcation is reduced to three dimensions – one foreach PIR sensor. These vectors are used to train logisticregression andGaussian mixture model(GMM) classiﬁers.3.2 Speed estimationSince the sensor array has three PIR sensors in di↵erentorientations (Figure 1), the temperature changes associatedwith a passing vehicle are recorded at di↵erent times by eachsensor (Figure 2). Convolution is applied to the three signalsto obtain the shifts of the signal spikes.Three time shifts are obtained\\x00t32,\\x00t21,\\x00t31, where\\x00tijrepresents the time shift of spikes from PIRito PIRj. Two linear regression models are compared:v=c1+c2\\x00t32+c3\\x00t21+c4\\x00t31,(t-model),v=c1+c2/\\x00t32+c3/\\x00t21+c4/\\x00t31,(1/t-model).The ﬁrstt-modelsimply takes the time shifts as featuresin linear regression. Alternatively, since speed is inverslyrelated to travel time, the1/t-modeluses the inverse of timeshifts as features.4. RESULTS4.1 Vehicle detection accuracyIn order to assess the accuracy of vehicle detection, nine-fold cross-validation is used. The'),\n",
       " Document(metadata={'source': 'sample.pdf', 'page': 0}, page_content='Figure 1: PIR sensor array: Left: Three PIR sensorsare integrated in one device. Right: The PIR sensorarray is designed to be placed by the road side.learning techniques to detect vehicles and estimate the traf-ﬁc speed.We used an array of three identical PIR sensors (MelexisMLX90614) connected to a main board through SMBus asshown in Figure 1. Each sensor has a ﬁeld of view of 10degrees, and spans a 120 degrees detection zone. The PIRsensor array is deployed by the side of the road for measuringtra\\x00c volume and speed.The power consumption of each PIR sensor is around15mW in continuous operation, and it measures the aver-age temperature in its ﬁeld of view with a rate of 12Hz anda resolution of 0.1\\x00C.3. METHODS3.1 Vehicle detectionThe recorded data is divided into windows of sizew, andclassiﬁed asvehicleornon-vehicleusing supervised classiﬁ-cation. Generally, the temperature of a vehicle is di↵erentfrom the ambient temperature. Therefore, when a vehiclepasses in front of the sensor, an abrupt change in the tem-perature is recorded. This subsection presents a method todetect windows'),\n",
       " Document(metadata={'source': 'sample.pdf', 'page': 1}, page_content='are tested, which vary the regression termsand methods for computing the time shifts. Figure 4 shows00.420.831.251.672.0805101520253035404550')]"
      ]
     },
     "execution_count": 58,
     "metadata": {},
     "output_type": "execute_result"
    }
   ],
   "source": [
    "retriever = vectorstore.as_retriever()\n",
    "retriever.invoke(\"A high-pass filter is used\")"
   ]
  },
  {
   "cell_type": "markdown",
   "metadata": {},
   "source": [
    "Configuring the model"
   ]
  },
  {
   "cell_type": "code",
   "execution_count": 59,
   "metadata": {},
   "outputs": [],
   "source": [
    "# from langchain_ollama import ChatOllama\n",
    "from langchain_google_genai import ChatGoogleGenerativeAI\n",
    "\n",
    "# model = ChatOllama(model=MODEL, temperature=0)\n",
    "model = ChatGoogleGenerativeAI(model=\"gemini-1.5-pro\", google_api_key=os.getenv(\"GEMINI_API_KEY\"), temperature=0)"
   ]
  },
  {
   "cell_type": "markdown",
   "metadata": {},
   "source": [
    "Parsing the model's response"
   ]
  },
  {
   "cell_type": "code",
   "execution_count": 60,
   "metadata": {},
   "outputs": [
    {
     "name": "stdout",
     "output_type": "stream",
     "text": [
      "The current president of Nigeria is **Bola Tinubu**. He assumed office on May 29, 2023, succeeding Muhammadu Buhari. \n",
      "\n"
     ]
    }
   ],
   "source": [
    "from langchain_core.output_parsers import StrOutputParser\n",
    "\n",
    "parser = StrOutputParser()\n",
    "\n",
    "chain =  model | parser\n",
    "\n",
    "print(chain.invoke(\"Who is the president of Nigeria?\"))"
   ]
  },
  {
   "cell_type": "markdown",
   "metadata": {},
   "source": [
    "Setting up a prompt"
   ]
  },
  {
   "cell_type": "code",
   "execution_count": 61,
   "metadata": {},
   "outputs": [
    {
     "name": "stdout",
     "output_type": "stream",
     "text": [
      "\n",
      "You are an assistant that provides answers to questions based on \n",
      "a given context.\n",
      "\n",
      "Answer the question based on the context. If you can't answer the\n",
      "question, reply \"I don't know\".\n",
      "\n",
      "Be as concise as possible and go straight to the point.\n",
      "\n",
      "Context: The president of Nigeria is Muhammadu Buhari.\n",
      "\n",
      "Question: Who is the president of Nigeria?\n",
      "\n"
     ]
    }
   ],
   "source": [
    "from langchain.prompts import PromptTemplate\n",
    "\n",
    "template = \"\"\"\n",
    "You are an assistant that provides answers to questions based on \n",
    "a given context.\n",
    "\n",
    "Answer the question based on the context. If you can't answer the\n",
    "question, reply \"I don't know\".\n",
    "\n",
    "Be as concise as possible and go straight to the point.\n",
    "\n",
    "Context: {context}\n",
    "\n",
    "Question: {question}\n",
    "\"\"\"\n",
    "\n",
    "prompt = PromptTemplate.from_template(template)\n",
    "print(prompt.format(context=\"The president of Nigeria is Muhammadu Buhari.\", question=\"Who is the president of Nigeria?\"))"
   ]
  },
  {
   "cell_type": "markdown",
   "metadata": {},
   "source": [
    "Adding the prompt to the chain"
   ]
  },
  {
   "cell_type": "code",
   "execution_count": 62,
   "metadata": {},
   "outputs": [
    {
     "data": {
      "text/plain": [
       "'A Nigerian \\n'"
      ]
     },
     "execution_count": 62,
     "metadata": {},
     "output_type": "execute_result"
    }
   ],
   "source": [
    "chain = prompt | model | parser\n",
    "\n",
    "chain.invoke({\n",
    "    \"context\": \"A person who is a citizen of Nigeria is called a Nigerian.\",\n",
    "    \"question\": \"What do you call a person who is a citizen of Nigeria?\"\n",
    "})"
   ]
  },
  {
   "cell_type": "markdown",
   "metadata": {},
   "source": [
    "Adding the retriever to the chain"
   ]
  },
  {
   "cell_type": "code",
   "execution_count": 63,
   "metadata": {},
   "outputs": [],
   "source": [
    "from operator import itemgetter\n",
    "\n",
    "chain = (\n",
    "    {\n",
    "        \"context\": itemgetter(\"question\") | retriever,\n",
    "        \"question\": itemgetter(\"question\"),\n",
    "    }\n",
    "    | prompt\n",
    "    | model\n",
    "    |parser\n",
    ")"
   ]
  },
  {
   "cell_type": "markdown",
   "metadata": {},
   "source": [
    "Using the chain to answer questions"
   ]
  },
  {
   "cell_type": "code",
   "execution_count": 64,
   "metadata": {},
   "outputs": [
    {
     "name": "stdout",
     "output_type": "stream",
     "text": [
      "Question: how is the recorded data divided?\n",
      "Answer: The recorded data is divided into windows of size w. \n",
      "####################\n",
      "Question: describe the results\n",
      "Answer: The logistic regression model achieved the best performance for vehicle detection, with zero false positives and only one false negative out of 288 vehicles. \n",
      "\n",
      "####################\n",
      "Question: What is the research objective?\n",
      "Answer: Use a combination of signal processing and machine learning techniques to detect vehicles and estimate their velocities from PIR sensor data. \n",
      "\n",
      "####################\n"
     ]
    }
   ],
   "source": [
    "questions = [\n",
    "    \"how is the recorded data divided?\",\n",
    "    \"describe the results\",\n",
    "    \"What is the research objective?\"\n",
    "]\n",
    "\n",
    "for question in questions:\n",
    "    print(f\"Question: {question}\")\n",
    "    print(f\"Answer: {chain.invoke({'question': question})}\")\n",
    "    print(\"#\"*20)"
   ]
  }
 ],
 "metadata": {
  "kernelspec": {
   "display_name": "Python 3",
   "language": "python",
   "name": "python3"
  },
  "language_info": {
   "codemirror_mode": {
    "name": "ipython",
    "version": 3
   },
   "file_extension": ".py",
   "mimetype": "text/x-python",
   "name": "python",
   "nbconvert_exporter": "python",
   "pygments_lexer": "ipython3",
   "version": "3.12.5"
  }
 },
 "nbformat": 4,
 "nbformat_minor": 2
}
